{
 "cells": [
  {
   "cell_type": "markdown",
   "metadata": {},
   "source": [
    "# Explore the Law of Large Numbers"
   ]
  },
  {
   "cell_type": "markdown",
   "metadata": {},
   "source": [
    "Consider a case where we observe a sample, $x = \\{x_1, \\dots, x_N\\}$, with $N$ observations. In addition, assume that sample comes from a normal distribution,\n",
    "\n",
    "$$\n",
    "x \\sim \\mathcal{N}(\\mu, \\sigma^2)\n",
    "$$\n",
    "\n",
    "where $\\mu$ is the mean and $\\sigma^2$ is the variance of the normal distribution.\n",
    "\n",
    "In a typical problem, we are interested in estimating the mean, $\\mu$. Let that estimate be denoted by $\\hat{\\mu}$. We know that $\\hat{\\mu} \\neq \\mu$, but by how much do they differ?\n"
   ]
  },
  {
   "cell_type": "code",
   "execution_count": null,
   "metadata": {
    "vscode": {
     "languageId": "r"
    }
   },
   "outputs": [],
   "source": [
    "# Load Packages\n",
    "library(tidyverse)\n",
    "library(ggplot2)"
   ]
  },
  {
   "cell_type": "markdown",
   "metadata": {},
   "source": [
    "Consider the simulation of a sample of size 10 drawn from a normal distribution\n",
    "with mean -3 and standard deviation of 5."
   ]
  },
  {
   "cell_type": "code",
   "execution_count": null,
   "metadata": {
    "vscode": {
     "languageId": "r"
    }
   },
   "outputs": [],
   "source": [
    "# Generate randome sample\n",
    "set.seed(123456789)\n",
    "N <- 10\n",
    "mu <- -3\n",
    "sigma <- 5\n",
    "x <- rnorm(N, mean = mu, sd = sigma)"
   ]
  },
  {
   "cell_type": "code",
   "execution_count": null,
   "metadata": {
    "vscode": {
     "languageId": "r"
    }
   },
   "outputs": [],
   "source": [
    "# Print x\n",
    "x"
   ]
  },
  {
   "cell_type": "markdown",
   "metadata": {},
   "source": [
    "### Q1. Calculate mean and standard deviation of x."
   ]
  },
  {
   "cell_type": "code",
   "execution_count": null,
   "metadata": {
    "vscode": {
     "languageId": "r"
    }
   },
   "outputs": [],
   "source": [
    "# Mean and standard deviation\n",
    "mean_x =\n",
    "st_dev_x ="
   ]
  },
  {
   "cell_type": "markdown",
   "metadata": {},
   "source": [
    "### Q2 - Repeat the steps above for sample sizes 100 and 1000. What do you observe?"
   ]
  },
  {
   "cell_type": "code",
   "execution_count": null,
   "metadata": {
    "vscode": {
     "languageId": "r"
    }
   },
   "outputs": [],
   "source": [
    "# Write your code here.\n",
    "\n"
   ]
  },
  {
   "cell_type": "markdown",
   "metadata": {},
   "source": [
    "How do we convey to the reader or the policy maker that our estimate of various statistics may not be accurate?\n",
    "\n",
    "One idea is to think about how our estimate would vary if we had a large number of diﬀerent samples, all drawn from the same true distribution. For each imaginary sample that we draw from the true distribution, we will get a diﬀerent estimate. As the number of samples gets large, we will have a distribution of the estimates. This distribution provides information about the uncertainty of our sample estimate."
   ]
  },
  {
   "cell_type": "code",
   "execution_count": null,
   "metadata": {
    "vscode": {
     "languageId": "r"
    }
   },
   "outputs": [],
   "source": [
    "M <- 500\n",
    "sample_est <- matrix(NA,M,N)\n",
    "for (m in 1:M) {\n",
    "    sample_est[m,] <- rnorm(N, mean = -3, sd = 5)\n",
    "    }"
   ]
  },
  {
   "cell_type": "code",
   "execution_count": null,
   "metadata": {
    "vscode": {
     "languageId": "r"
    }
   },
   "outputs": [],
   "source": [
    "# Set plot window size (width, height in inches)\n",
    "options(repr.plot.width = 12, repr.plot.height = 10)\n",
    "\n",
    "# Set plot background to white\n",
    "par(bg = \"white\")\n",
    "\n",
    "# Convert the matrix to a vector for easy plotting\n",
    "sample_est_vector <- as.vector(sample_est)\n",
    "\n",
    "# Plot density of sample estimates\n",
    "plot(density(sample_est_vector), col = \"blue\", lwd = 2, main = \"Density of Sample Estimates\", xlab = \"Sample Estimates\")\n"
   ]
  },
  {
   "cell_type": "markdown",
   "metadata": {},
   "source": [
    "### Q3 Varie M above and comment the changes. What does it happen when M=10? M=100? M=500? M=10000?"
   ]
  },
  {
   "cell_type": "code",
   "execution_count": null,
   "metadata": {
    "vscode": {
     "languageId": "r"
    }
   },
   "outputs": [],
   "source": [
    "# Write your code here\n",
    "\n"
   ]
  },
  {
   "cell_type": "markdown",
   "metadata": {},
   "source": [
    "The End!"
   ]
  }
 ],
 "metadata": {
  "kernelspec": {
   "display_name": "R",
   "language": "R",
   "name": "ir"
  },
  "language_info": {
   "codemirror_mode": "r",
   "file_extension": ".r",
   "mimetype": "text/x-r-source",
   "name": "R",
   "pygments_lexer": "r",
   "version": "4.4.1"
  }
 },
 "nbformat": 4,
 "nbformat_minor": 2
}
